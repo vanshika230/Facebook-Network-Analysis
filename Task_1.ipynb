{
 "cells": [
  {
   "cell_type": "markdown",
   "id": "8f5d90da-eab2-476c-8748-c31d7d916a2a",
   "metadata": {},
   "source": [
    "# Network Data Science with NetworkX and Python\n",
    "## Loading graphs from Excel spreadsheet \n",
    "This code loads social network data from an Excel spreadsheet using pandas library and then creates a graph using networkx library.\n",
    "1) First, the URL of the Excel file is provided and then using pandas, the data from the two sheets \"Elements\" and \"Connections\" are loaded into a dictionary \"network_data\" with keys \"Elements\" and \"Connections\" respectively.\n",
    "2) The \"Elements\" sheet contains information about each node (or person) in the network such as their label, type (in this case, all are students), School (ID) and if they answered the form or not.\n",
    "3) The \"Connections\" sheet contains information about the edges (or relationships) between nodes. Each edge has a 'From' and a 'To' node, type of relationship (School, Other or NaN), weight, and when the relationship was formed.\n",
    "4) The graph is created using the networkx function nx.convert_matrix.from_pandas_edgelist() which converts the edges from the pandas DataFrame \"connections_data\" to a networkx graph. The source and target arguments specify which columns in the DataFrame correspond to the nodes of the graph. The edge_attr argument specifies which columns should be used as edge attributes.\n",
    "5) The node attributes are then added to the graph using nx.set_node_attributes() function which takes a dictionary of node labels and node attribute dictionaries as input.\n",
    "6) Finally, some random edges and nodes are sampled from the graph and their attributes are printed using the edges and nodes attributes of the graph object."
   ]
  },
  {
   "cell_type": "code",
   "execution_count": 15,
   "id": "46a3cfc9-6a04-4d2c-aa0f-a21476663853",
   "metadata": {},
   "outputs": [],
   "source": [
    "# import required libraries\n",
    "from random import sample\n",
    "import networkx as nx\n",
    "import pandas as pd"
   ]
  },
  {
   "cell_type": "code",
   "execution_count": 19,
   "id": "e5a29921-b026-43fd-b7de-36d5b5000a50",
   "metadata": {},
   "outputs": [],
   "source": [
    "# load data from excel file on github\n",
    "link = ('https://github.com/vanshika230/Facebook-Network-Analysis/blob/main/Social%20Network%20Dataset.xlsx?raw=true')"
   ]
  },
  {
   "cell_type": "code",
   "execution_count": 20,
   "id": "32403d04-48d5-4bd2-8525-44e3aee8ec80",
   "metadata": {},
   "outputs": [],
   "source": [
    "network_data = pd.read_excel(link, sheet_name = ['Elements', 'Connections'])"
   ]
  },
  {
   "cell_type": "code",
   "execution_count": 23,
   "id": "e5f76071-dd7b-4163-b7a3-de5ce26bb65c",
   "metadata": {},
   "outputs": [
    {
     "data": {
      "text/plain": [
       "{'Elements':          Label     Type  School (ID) Answered the form\n",
       " 0     S-c1b610  Student           27               Yes\n",
       " 1     S-4985b3  Student           25               Yes\n",
       " 2     S-376418  Student           67               Yes\n",
       " 3     S-d00f38  Student           24               Yes\n",
       " 4     S-e538e3  Student           30               Yes\n",
       " ...        ...      ...          ...               ...\n",
       " 1188  S-64b594  Student           25                No\n",
       " 1189  S-42ff75  Student           49                No\n",
       " 1190  S-87c031  Student            4                No\n",
       " 1191  S-cd9523  Student           12                No\n",
       " 1192  S-1a36bb  Student           58                No\n",
       " \n",
       " [1193 rows x 4 columns],\n",
       " 'Connections':           From        To    Type  Weight    When\n",
       " 0     S-c1b610  S-7d9053   Other     1.0  2012.0\n",
       " 1     S-4985b3  S-e7dad4  School     1.0  2015.0\n",
       " 2     S-376418  S-ab3070  School     1.0  2012.0\n",
       " 3     S-d00f38  S-6e1f64  School     1.0  2016.0\n",
       " 4     S-e538e3  S-596786   Other     1.0  1994.0\n",
       " ...        ...       ...     ...     ...     ...\n",
       " 3720  S-62b2dd  S-1d79de     NaN     0.2  2015.0\n",
       " 3721  S-70f591  S-5df058     NaN     0.2  2013.0\n",
       " 3722  S-d8896c  S-c16d72     NaN     0.2  2017.0\n",
       " 3723  S-7b9f00  S-780caf     NaN     0.2  2016.0\n",
       " 3724  S-3df3a7  S-1a36bb     NaN     0.2  2006.0\n",
       " \n",
       " [3725 rows x 5 columns]}"
      ]
     },
     "execution_count": 23,
     "metadata": {},
     "output_type": "execute_result"
    }
   ],
   "source": [
    "network_data"
   ]
  },
  {
   "cell_type": "code",
   "execution_count": 24,
   "id": "bc0ab712-eebd-4021-839b-d35069a83ccb",
   "metadata": {},
   "outputs": [],
   "source": [
    "# separate the elements and connections data\n",
    "elements_data = network_data['Elements']\n",
    "connections_data = network_data['Connections']"
   ]
  },
  {
   "cell_type": "code",
   "execution_count": 25,
   "id": "b19e10d6-9102-4aec-8cfb-3f3d44a6c99f",
   "metadata": {},
   "outputs": [
    {
     "data": {
      "text/html": [
       "<div>\n",
       "<style scoped>\n",
       "    .dataframe tbody tr th:only-of-type {\n",
       "        vertical-align: middle;\n",
       "    }\n",
       "\n",
       "    .dataframe tbody tr th {\n",
       "        vertical-align: top;\n",
       "    }\n",
       "\n",
       "    .dataframe thead th {\n",
       "        text-align: right;\n",
       "    }\n",
       "</style>\n",
       "<table border=\"1\" class=\"dataframe\">\n",
       "  <thead>\n",
       "    <tr style=\"text-align: right;\">\n",
       "      <th></th>\n",
       "      <th>From</th>\n",
       "      <th>To</th>\n",
       "      <th>Type</th>\n",
       "      <th>Weight</th>\n",
       "      <th>When</th>\n",
       "    </tr>\n",
       "  </thead>\n",
       "  <tbody>\n",
       "    <tr>\n",
       "      <th>0</th>\n",
       "      <td>S-c1b610</td>\n",
       "      <td>S-7d9053</td>\n",
       "      <td>Other</td>\n",
       "      <td>1.0</td>\n",
       "      <td>2012.0</td>\n",
       "    </tr>\n",
       "    <tr>\n",
       "      <th>1</th>\n",
       "      <td>S-4985b3</td>\n",
       "      <td>S-e7dad4</td>\n",
       "      <td>School</td>\n",
       "      <td>1.0</td>\n",
       "      <td>2015.0</td>\n",
       "    </tr>\n",
       "    <tr>\n",
       "      <th>2</th>\n",
       "      <td>S-376418</td>\n",
       "      <td>S-ab3070</td>\n",
       "      <td>School</td>\n",
       "      <td>1.0</td>\n",
       "      <td>2012.0</td>\n",
       "    </tr>\n",
       "    <tr>\n",
       "      <th>3</th>\n",
       "      <td>S-d00f38</td>\n",
       "      <td>S-6e1f64</td>\n",
       "      <td>School</td>\n",
       "      <td>1.0</td>\n",
       "      <td>2016.0</td>\n",
       "    </tr>\n",
       "    <tr>\n",
       "      <th>4</th>\n",
       "      <td>S-e538e3</td>\n",
       "      <td>S-596786</td>\n",
       "      <td>Other</td>\n",
       "      <td>1.0</td>\n",
       "      <td>1994.0</td>\n",
       "    </tr>\n",
       "  </tbody>\n",
       "</table>\n",
       "</div>"
      ],
      "text/plain": [
       "       From        To    Type  Weight    When\n",
       "0  S-c1b610  S-7d9053   Other     1.0  2012.0\n",
       "1  S-4985b3  S-e7dad4  School     1.0  2015.0\n",
       "2  S-376418  S-ab3070  School     1.0  2012.0\n",
       "3  S-d00f38  S-6e1f64  School     1.0  2016.0\n",
       "4  S-e538e3  S-596786   Other     1.0  1994.0"
      ]
     },
     "execution_count": 25,
     "metadata": {},
     "output_type": "execute_result"
    }
   ],
   "source": [
    "connections_data.head()"
   ]
  },
  {
   "cell_type": "code",
   "execution_count": 26,
   "id": "f39a4dac-2830-4d26-8bc4-db1b1cceacb1",
   "metadata": {},
   "outputs": [],
   "source": [
    "# create a networkx graph from the connections data\n",
    "edge_cols = ['Type', 'Weight', 'When']\n",
    "graph = nx.convert_matrix.from_pandas_edgelist(connections_data,source = 'From', target = 'To',edge_attr = edge_cols)"
   ]
  },
  {
   "cell_type": "code",
   "execution_count": 27,
   "id": "9024f173-9284-48e2-a5ae-0f6089b28002",
   "metadata": {},
   "outputs": [],
   "source": [
    "sampled_edges = sample(graph.edges, 10)"
   ]
  },
  {
   "cell_type": "code",
   "execution_count": 28,
   "id": "8bf49118-52fc-452a-adc9-7a2e5876bd25",
   "metadata": {},
   "outputs": [
    {
     "data": {
      "text/plain": [
       "{'Type': nan, 'Weight': 0.4, 'When': 2012.0}"
      ]
     },
     "execution_count": 28,
     "metadata": {},
     "output_type": "execute_result"
    }
   ],
   "source": [
    "graph.edges[sampled_edges[0]]"
   ]
  },
  {
   "cell_type": "code",
   "execution_count": 31,
   "id": "fa0effac-1525-47ad-be7c-6577f3fd265f",
   "metadata": {},
   "outputs": [
    {
     "data": {
      "text/html": [
       "<div>\n",
       "<style scoped>\n",
       "    .dataframe tbody tr th:only-of-type {\n",
       "        vertical-align: middle;\n",
       "    }\n",
       "\n",
       "    .dataframe tbody tr th {\n",
       "        vertical-align: top;\n",
       "    }\n",
       "\n",
       "    .dataframe thead th {\n",
       "        text-align: right;\n",
       "    }\n",
       "</style>\n",
       "<table border=\"1\" class=\"dataframe\">\n",
       "  <thead>\n",
       "    <tr style=\"text-align: right;\">\n",
       "      <th></th>\n",
       "      <th>Label</th>\n",
       "      <th>Type</th>\n",
       "      <th>School (ID)</th>\n",
       "      <th>Answered the form</th>\n",
       "    </tr>\n",
       "  </thead>\n",
       "  <tbody>\n",
       "    <tr>\n",
       "      <th>0</th>\n",
       "      <td>S-c1b610</td>\n",
       "      <td>Student</td>\n",
       "      <td>27</td>\n",
       "      <td>Yes</td>\n",
       "    </tr>\n",
       "    <tr>\n",
       "      <th>1</th>\n",
       "      <td>S-4985b3</td>\n",
       "      <td>Student</td>\n",
       "      <td>25</td>\n",
       "      <td>Yes</td>\n",
       "    </tr>\n",
       "    <tr>\n",
       "      <th>2</th>\n",
       "      <td>S-376418</td>\n",
       "      <td>Student</td>\n",
       "      <td>67</td>\n",
       "      <td>Yes</td>\n",
       "    </tr>\n",
       "    <tr>\n",
       "      <th>3</th>\n",
       "      <td>S-d00f38</td>\n",
       "      <td>Student</td>\n",
       "      <td>24</td>\n",
       "      <td>Yes</td>\n",
       "    </tr>\n",
       "    <tr>\n",
       "      <th>4</th>\n",
       "      <td>S-e538e3</td>\n",
       "      <td>Student</td>\n",
       "      <td>30</td>\n",
       "      <td>Yes</td>\n",
       "    </tr>\n",
       "    <tr>\n",
       "      <th>5</th>\n",
       "      <td>S-aef13c</td>\n",
       "      <td>Student</td>\n",
       "      <td>26</td>\n",
       "      <td>Yes</td>\n",
       "    </tr>\n",
       "    <tr>\n",
       "      <th>6</th>\n",
       "      <td>S-ee8774</td>\n",
       "      <td>Student</td>\n",
       "      <td>27</td>\n",
       "      <td>Yes</td>\n",
       "    </tr>\n",
       "    <tr>\n",
       "      <th>7</th>\n",
       "      <td>S-8b51fe</td>\n",
       "      <td>Student</td>\n",
       "      <td>58</td>\n",
       "      <td>Yes</td>\n",
       "    </tr>\n",
       "    <tr>\n",
       "      <th>8</th>\n",
       "      <td>S-21cce5</td>\n",
       "      <td>Student</td>\n",
       "      <td>27</td>\n",
       "      <td>Yes</td>\n",
       "    </tr>\n",
       "    <tr>\n",
       "      <th>9</th>\n",
       "      <td>S-359c63</td>\n",
       "      <td>Student</td>\n",
       "      <td>49</td>\n",
       "      <td>Yes</td>\n",
       "    </tr>\n",
       "  </tbody>\n",
       "</table>\n",
       "</div>"
      ],
      "text/plain": [
       "      Label     Type  School (ID) Answered the form\n",
       "0  S-c1b610  Student           27               Yes\n",
       "1  S-4985b3  Student           25               Yes\n",
       "2  S-376418  Student           67               Yes\n",
       "3  S-d00f38  Student           24               Yes\n",
       "4  S-e538e3  Student           30               Yes\n",
       "5  S-aef13c  Student           26               Yes\n",
       "6  S-ee8774  Student           27               Yes\n",
       "7  S-8b51fe  Student           58               Yes\n",
       "8  S-21cce5  Student           27               Yes\n",
       "9  S-359c63  Student           49               Yes"
      ]
     },
     "execution_count": 31,
     "metadata": {},
     "output_type": "execute_result"
    }
   ],
   "source": [
    "elements_data.head(10)"
   ]
  },
  {
   "cell_type": "code",
   "execution_count": 32,
   "id": "5acdf873-05b1-4fa1-a63b-edc54341792b",
   "metadata": {},
   "outputs": [],
   "source": [
    "node_dict = elements_data.set_index('Label').to_dict(orient = 'index')\n",
    "nx.set_node_attributes(graph, node_dict)"
   ]
  },
  {
   "cell_type": "code",
   "execution_count": 33,
   "id": "8e66134a-ac9b-4c48-bc7a-20012d2634ac",
   "metadata": {},
   "outputs": [],
   "source": [
    "sampled_nodes = sample(graph.nodes, 10)"
   ]
  },
  {
   "cell_type": "code",
   "execution_count": 34,
   "id": "baf8077d-27a0-423d-9ecf-de998d2ee723",
   "metadata": {},
   "outputs": [
    {
     "data": {
      "text/plain": [
       "{'Type': 'Student', 'School (ID)': 67, 'Answered the form': 'No'}"
      ]
     },
     "execution_count": 34,
     "metadata": {},
     "output_type": "execute_result"
    }
   ],
   "source": [
    "graph.nodes[sampled_nodes[0]]"
   ]
  }
 ],
 "metadata": {
  "kernelspec": {
   "display_name": "Python 3 (ipykernel)",
   "language": "python",
   "name": "python3"
  },
  "language_info": {
   "codemirror_mode": {
    "name": "ipython",
    "version": 3
   },
   "file_extension": ".py",
   "mimetype": "text/x-python",
   "name": "python",
   "nbconvert_exporter": "python",
   "pygments_lexer": "ipython3",
   "version": "3.8.16"
  }
 },
 "nbformat": 4,
 "nbformat_minor": 5
}
